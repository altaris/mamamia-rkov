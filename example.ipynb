{
 "metadata": {
  "language_info": {
   "codemirror_mode": {
    "name": "ipython",
    "version": 3
   },
   "file_extension": ".py",
   "mimetype": "text/x-python",
   "name": "python",
   "nbconvert_exporter": "python",
   "pygments_lexer": "ipython3",
   "version": "3.8.2"
  },
  "orig_nbformat": 4,
  "kernelspec": {
   "name": "python3",
   "display_name": "Python 3.8.2 64-bit ('venv': venv)"
  },
  "interpreter": {
   "hash": "1534e34ba5ffcc36015b6d9952326d1005e23f412d968e2b37ae65e0024614ad"
  }
 },
 "nbformat": 4,
 "nbformat_minor": 2,
 "cells": [
  {
   "cell_type": "code",
   "execution_count": 1,
   "metadata": {},
   "outputs": [],
   "source": [
    "import numpy as np\n",
    "import mmk\n",
    "import mmk.logic.pctl as pctl\n",
    "import mmk.logic.mtl as mtl"
   ]
  },
  {
   "cell_type": "code",
   "execution_count": 2,
   "metadata": {},
   "outputs": [],
   "source": [
    "def pretty_print_pctl(chain: mmk.MarkovChain, formula: str, vector: np.ndarray):\n",
    "    for s, p in chain.vector_to_state_weights(vector).items():\n",
    "        m = \"⊨\" if p else \"⊭\"\n",
    "        print(f\"{s} {m} {formula}\")\n",
    "\n",
    "def pretty_print_mtl(chain: mmk.MarkovChain, formula: str, vector: np.ndarray):\n",
    "    for s, p in chain.vector_to_state_weights(vector).items():\n",
    "        print(f\"ℙ ( {s} ⊨ {formula} ) = {p}\")    "
   ]
  },
  {
   "cell_type": "code",
   "execution_count": 3,
   "metadata": {},
   "outputs": [],
   "source": [
    "simple_com_proto = mmk.MarkovChain(\n",
    "    {\n",
    "        \"start\": {\n",
    "            \"try\": 1.\n",
    "        },\n",
    "        \"try\": {\n",
    "            \"lost\": .1,\n",
    "            \"delivered\": .9,\n",
    "        },\n",
    "        \"lost\": {\n",
    "            \"try\": 1.,\n",
    "        },\n",
    "        \"delivered\": {\n",
    "            \"start\": 1.,\n",
    "        },\n",
    "    }\n",
    ")"
   ]
  },
  {
   "cell_type": "code",
   "execution_count": 4,
   "metadata": {},
   "outputs": [
    {
     "output_type": "stream",
     "name": "stdout",
     "text": [
      "ℙ ( delivered ⊨ eventually delivered ) = 1.0\nℙ ( lost ⊨ eventually delivered ) = 1.0000000000000036\nℙ ( start ⊨ eventually delivered ) = 0.999999999999996\nℙ ( try ⊨ eventually delivered ) = 1.0\n"
     ]
    }
   ],
   "source": [
    "formula = \"eventually delivered\"\n",
    "p = mtl.evaluate(simple_com_proto, formula)\n",
    "pretty_print_mtl(simple_com_proto, formula, p)"
   ]
  },
  {
   "cell_type": "code",
   "execution_count": 5,
   "metadata": {},
   "outputs": [
    {
     "output_type": "stream",
     "name": "stdout",
     "text": [
      "delivered ⊨ Φ\nlost ⊨ Φ\nstart ⊨ Φ\ntry ⊨ Φ\n"
     ]
    }
   ],
   "source": [
    "# Note that logical connective are written in Polish notation\n",
    "formula = \"\"\"and\n",
    "    probability within [ 1 1 ] ( eventually delivered )\n",
    "    probability within [ 1 1 ] (\n",
    "        always (\n",
    "            implies\n",
    "                try\n",
    "                probability within [ 0.99 1 ] ( eventually within 3 delivered )\n",
    "        )\n",
    "    )\"\"\"\n",
    "p = pctl.evaluate(simple_com_proto, formula)\n",
    "pretty_print_pctl(simple_com_proto, \"Φ\", p)"
   ]
  },
  {
   "cell_type": "code",
   "execution_count": 6,
   "metadata": {},
   "outputs": [],
   "source": [
    "craps = mmk.MarkovChain(\n",
    "    {\n",
    "        \"10\": {\n",
    "            \"10\": 3 / 4,\n",
    "            \"lost\": 1 / 6,\n",
    "            \"won\": 1 / 12,\n",
    "        },\n",
    "        \"4\": {\n",
    "            \"4\": 3 / 4,\n",
    "            \"lost\": 1 / 6,\n",
    "            \"won\": 1 / 12,\n",
    "        },\n",
    "        \"5\": {\n",
    "            \"5\": 13 / 18,\n",
    "            \"lost\": 1 / 6,\n",
    "            \"won\": 1 / 9,\n",
    "        },\n",
    "        \"6\": {\n",
    "            \"6\": 25 / 36,\n",
    "            \"lost\": 1 / 6,\n",
    "            \"won\": 5 / 36,\n",
    "        },\n",
    "        \"8\": {\n",
    "            \"8\": 25 / 36,\n",
    "            \"lost\": 1 / 6,\n",
    "            \"won\": 5 / 36,\n",
    "        },\n",
    "        \"9\": {\n",
    "            \"9\": 13 / 18,\n",
    "            \"lost\": 1 / 6,\n",
    "            \"won\": 1 / 9,\n",
    "        },\n",
    "        \"lost\": {\n",
    "            \"lost\": 1,\n",
    "        },\n",
    "        \"start\": {\n",
    "            \"10\": 1 / 12,\n",
    "            \"4\": 1 / 12,\n",
    "            \"5\": 1 / 9,\n",
    "            \"6\": 5 / 36,\n",
    "            \"8\": 5 / 36,\n",
    "            \"9\": 1 / 9,\n",
    "            \"lost\": 1 / 9,\n",
    "            \"won\": 2 / 9,\n",
    "        },\n",
    "        \"won\": {\n",
    "            \"won\": 1.,\n",
    "        },\n",
    "    }\n",
    ")"
   ]
  },
  {
   "cell_type": "code",
   "execution_count": 7,
   "metadata": {},
   "outputs": [
    {
     "output_type": "stream",
     "name": "stdout",
     "text": [
      "ℙ ( 10 ⊨ eventually won ) = 0.3333333333333335\nℙ ( 4 ⊨ eventually won ) = 0.3333333333333334\nℙ ( 5 ⊨ eventually won ) = 0.39999999999999863\nℙ ( 6 ⊨ eventually won ) = 0.4545454545454544\nℙ ( 8 ⊨ eventually won ) = 0.4545454545454544\nℙ ( 9 ⊨ eventually won ) = 0.3999999999999993\nℙ ( lost ⊨ eventually won ) = 0.0\nℙ ( start ⊨ eventually won ) = 0.49292929292929266\nℙ ( won ⊨ eventually won ) = 1.0\n"
     ]
    }
   ],
   "source": [
    "formula = \"eventually won\"\n",
    "p = mtl.evaluate(craps, formula)\n",
    "pretty_print_mtl(craps, formula, p)"
   ]
  },
  {
   "cell_type": "code",
   "execution_count": 8,
   "metadata": {},
   "outputs": [
    {
     "output_type": "stream",
     "name": "stdout",
     "text": [
      "ℙ ( 10 ⊨ start,4,5,6 until within 2 won ) = 0.08333333333333333\nℙ ( 4 ⊨ start,4,5,6 until within 2 won ) = 0.14583333333333331\nℙ ( 5 ⊨ start,4,5,6 until within 2 won ) = 0.19135802469135801\nℙ ( 6 ⊨ start,4,5,6 until within 2 won ) = 0.2353395061728395\nℙ ( 8 ⊨ start,4,5,6 until within 2 won ) = 0.1388888888888889\nℙ ( 9 ⊨ start,4,5,6 until within 2 won ) = 0.1111111111111111\nℙ ( lost ⊨ start,4,5,6 until within 2 won ) = 0.0\nℙ ( start ⊨ start,4,5,6 until within 2 won ) = 0.26080246913580246\nℙ ( won ⊨ start,4,5,6 until within 2 won ) = 1.0\n"
     ]
    }
   ],
   "source": [
    "formula = \"start,4,5,6 until within 2 won\"\n",
    "p = mtl.evaluate(craps, formula)\n",
    "pretty_print_mtl(craps, formula, p)"
   ]
  },
  {
   "cell_type": "code",
   "execution_count": 9,
   "metadata": {},
   "outputs": [],
   "source": [
    "dice = mmk.MarkovChain(\n",
    "    {\n",
    "        \"1\": {\n",
    "            \"1\": 1,\n",
    "        },\n",
    "        \"2\": {\n",
    "            \"2\": 1,\n",
    "        },\n",
    "        \"3\": {\n",
    "            \"3\": 1,\n",
    "        },\n",
    "        \"4\": {\n",
    "            \"4\": 1,\n",
    "        },\n",
    "        \"5\": {\n",
    "            \"5\": 1,\n",
    "        },\n",
    "        \"6\": {\n",
    "            \"6\": 1,\n",
    "        },\n",
    "        \"s0\": {\n",
    "            \"s123\": .5,\n",
    "            \"s456\": .5,\n",
    "        },\n",
    "        \"s123_\": {\n",
    "            \"s123\": .5,\n",
    "            \"1\": .5,\n",
    "        },\n",
    "        \"s123\": {\n",
    "            \"s123_\": .5,\n",
    "            \"s23\": .5,\n",
    "        },\n",
    "        \"s23\": {\n",
    "            \"2\": .5,\n",
    "            \"3\": .5,\n",
    "        },\n",
    "        \"s45\": {\n",
    "            \"4\": .5,\n",
    "            \"5\": .5,\n",
    "        },\n",
    "        \"s456_\": {\n",
    "            \"s456\": .5,\n",
    "            \"6\": .5,\n",
    "        },\n",
    "        \"s456\": {\n",
    "            \"s45\": .5,\n",
    "            \"s456_\": .5,\n",
    "        },\n",
    "    }\n",
    ")"
   ]
  },
  {
   "cell_type": "code",
   "execution_count": 10,
   "metadata": {},
   "outputs": [
    {
     "output_type": "stream",
     "name": "stdout",
     "text": [
      "ℙ ( s0 ⊨ eventually 1 ) = 0.16666666666666655\nℙ ( s0 ⊨ eventually 2 ) = 0.16666666666666646\nℙ ( s0 ⊨ eventually 3 ) = 0.16666666666666646\nℙ ( s0 ⊨ eventually 4 ) = 0.16666666666666638\nℙ ( s0 ⊨ eventually 5 ) = 0.16666666666666638\nℙ ( s0 ⊨ eventually 6 ) = 0.16666666666666674\n"
     ]
    }
   ],
   "source": [
    "for i in range(1, 7):\n",
    "    formula = \"eventually \" + str(i)\n",
    "    p = mtl.evaluate(dice, formula)\n",
    "    p = p[dice.state_index(\"s0\")]\n",
    "    print(f\"ℙ ( s0 ⊨ {formula} ) = {p}\")"
   ]
  },
  {
   "cell_type": "code",
   "execution_count": 11,
   "metadata": {},
   "outputs": [],
   "source": [
    "p = .05\n",
    "q = .1\n",
    "zeroconf_proto = mmk.MarkovChain(\n",
    "    {\n",
    "        \"start\": {\n",
    "            \"s1\": q,\n",
    "            \"ok\": 1 - q,\n",
    "        },\n",
    "        \"s1\": {\n",
    "            \"start\": 1 - p,\n",
    "            \"s2\": p,\n",
    "        },\n",
    "        \"s2\": {\n",
    "            \"start\": 1 - p,\n",
    "            \"s3\": p,\n",
    "        },\n",
    "        \"s3\": {\n",
    "            \"start\": 1 - p,\n",
    "            \"s4\": p,\n",
    "        },\n",
    "        \"s4\": {\n",
    "            \"start\": 1 - p,\n",
    "            \"error\": p,\n",
    "        },\n",
    "        \"error\": {\n",
    "            \"error\": 1.,\n",
    "        },\n",
    "        \"ok\": {\n",
    "            \"ok\": 1.,\n",
    "        },\n",
    "    }\n",
    ")"
   ]
  },
  {
   "cell_type": "code",
   "execution_count": 12,
   "metadata": {},
   "outputs": [
    {
     "output_type": "stream",
     "name": "stdout",
     "text": [
      "ℙ ( error ⊨ eventually within 5 ok ) = 0.0\nℙ ( ok ⊨ eventually within 5 ok ) = 1.0\nℙ ( s1 ⊨ eventually within 5 ok ) = 0.989341875\nℙ ( s2 ⊨ eventually within 5 ok ) = 0.989235\nℙ ( s3 ⊨ eventually within 5 ok ) = 0.9870975\nℙ ( s4 ⊨ eventually within 5 ok ) = 0.94028625\nℙ ( start ⊨ eventually within 5 ok ) = 0.99811125\n"
     ]
    }
   ],
   "source": [
    "formula = \"eventually within 5 ok\"\n",
    "p = mtl.evaluate(zeroconf_proto, formula)\n",
    "pretty_print_mtl(zeroconf_proto, formula, p)"
   ]
  }
 ]
}