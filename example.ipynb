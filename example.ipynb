{
 "metadata": {
  "language_info": {
   "codemirror_mode": {
    "name": "ipython",
    "version": 3
   },
   "file_extension": ".py",
   "mimetype": "text/x-python",
   "name": "python",
   "nbconvert_exporter": "python",
   "pygments_lexer": "ipython3",
   "version": "3.8.2"
  },
  "orig_nbformat": 4,
  "kernelspec": {
   "name": "python3",
   "display_name": "Python 3.8.2 64-bit ('venv')"
  },
  "interpreter": {
   "hash": "1534e34ba5ffcc36015b6d9952326d1005e23f412d968e2b37ae65e0024614ad"
  }
 },
 "nbformat": 4,
 "nbformat_minor": 2,
 "cells": [
  {
   "cell_type": "code",
   "execution_count": 1,
   "metadata": {},
   "outputs": [],
   "source": [
    "import numpy as np\n",
    "import networkx as nx\n",
    "\n",
    "import mmk"
   ]
  },
  {
   "cell_type": "code",
   "execution_count": 2,
   "metadata": {},
   "outputs": [],
   "source": [
    "chain = mmk.MarkovChain(\n",
    "    {\n",
    "        \"start\": {\n",
    "            \"try\": 1.\n",
    "        },\n",
    "        \"try\": {\n",
    "            \"lost\": .1,\n",
    "            \"delivered\": .9,\n",
    "        },\n",
    "        \"lost\": {\n",
    "            \"try\": 1.,\n",
    "        },\n",
    "        \"delivered\": {\n",
    "            \"start\": 1.,\n",
    "        },\n",
    "    }\n",
    ")"
   ]
  },
  {
   "cell_type": "code",
   "execution_count": 3,
   "metadata": {},
   "outputs": [
    {
     "output_type": "stream",
     "name": "stdout",
     "text": [
      "ℙ ( delivered ⊨ eventually delivered ) = 1.0\nℙ ( lost ⊨ eventually delivered ) = 1.0\nℙ ( start ⊨ eventually delivered ) = 1.0\nℙ ( try ⊨ eventually delivered ) = 1.0\n"
     ]
    }
   ],
   "source": [
    "formula = \"eventually delivered\"  # or \"<> delivered\" \n",
    "p = mmk.probability_of_formula(chain, formula)\n",
    "\n",
    "for s, p in zip(chain._states, p):\n",
    "    print(f\"ℙ ( {s} ⊨ {formula} ) = {p}\")"
   ]
  }
 ]
}