{
 "metadata": {
  "language_info": {
   "codemirror_mode": {
    "name": "ipython",
    "version": 3
   },
   "file_extension": ".py",
   "mimetype": "text/x-python",
   "name": "python",
   "nbconvert_exporter": "python",
   "pygments_lexer": "ipython3",
   "version": "3.8.2"
  },
  "orig_nbformat": 4,
  "kernelspec": {
   "name": "python3",
   "display_name": "Python 3.8.2 64-bit ('venv')"
  },
  "interpreter": {
   "hash": "1534e34ba5ffcc36015b6d9952326d1005e23f412d968e2b37ae65e0024614ad"
  }
 },
 "nbformat": 4,
 "nbformat_minor": 2,
 "cells": [
  {
   "cell_type": "code",
   "execution_count": 1,
   "metadata": {},
   "outputs": [],
   "source": [
    "import numpy as np\n",
    "import mmk"
   ]
  },
  {
   "cell_type": "code",
   "execution_count": 2,
   "metadata": {},
   "outputs": [],
   "source": [
    "def pretty_print(chain: mmk.MarkovChain, formula: str, vector: np.ndarray):\n",
    "    for s, p in chain.vector_to_state_weights(vector).items():\n",
    "        print(f\"ℙ ( {s} ⊨ {formula} ) = {p}\")"
   ]
  },
  {
   "cell_type": "code",
   "execution_count": 3,
   "metadata": {},
   "outputs": [],
   "source": [
    "simple_com_prt = mmk.MarkovChain(\n",
    "    {\n",
    "        \"start\": {\n",
    "            \"try\": 1.\n",
    "        },\n",
    "        \"try\": {\n",
    "            \"lost\": .1,\n",
    "            \"delivered\": .9,\n",
    "        },\n",
    "        \"lost\": {\n",
    "            \"try\": 1.,\n",
    "        },\n",
    "        \"delivered\": {\n",
    "            \"start\": 1.,\n",
    "        },\n",
    "    }\n",
    ")"
   ]
  },
  {
   "cell_type": "code",
   "execution_count": 4,
   "metadata": {},
   "outputs": [
    {
     "output_type": "stream",
     "name": "stdout",
     "text": [
      "ℙ ( delivered ⊨ eventually delivered ) = 1.0\nℙ ( lost ⊨ eventually delivered ) = 1.0000000000000036\nℙ ( start ⊨ eventually delivered ) = 0.999999999999996\nℙ ( try ⊨ eventually delivered ) = 1.0\n"
     ]
    }
   ],
   "source": [
    "formula = \"eventually delivered\"\n",
    "p = mmk.probability_of_formula(simple_com_prt, formula)\n",
    "pretty_print(simple_com_prt, formula, p)"
   ]
  },
  {
   "cell_type": "code",
   "execution_count": 5,
   "metadata": {},
   "outputs": [],
   "source": [
    "p = .05\n",
    "q = .1\n",
    "zeroconf_prt = mmk.MarkovChain(\n",
    "    {\n",
    "        \"start\": {\n",
    "            \"s1\": q,\n",
    "            \"ok\": 1 - q,\n",
    "        },\n",
    "        \"s1\": {\n",
    "            \"start\": 1 - p,\n",
    "            \"s2\": p,\n",
    "        },\n",
    "        \"s2\": {\n",
    "            \"start\": 1 - p,\n",
    "            \"s3\": p,\n",
    "        },\n",
    "        \"s3\": {\n",
    "            \"start\": 1 - p,\n",
    "            \"s4\": p,\n",
    "        },\n",
    "        \"s4\": {\n",
    "            \"start\": 1 - p,\n",
    "            \"error\": p,\n",
    "        },\n",
    "        \"error\": {\n",
    "            \"error\": 1.,\n",
    "        },\n",
    "        \"ok\": {\n",
    "            \"ok\": 1.,\n",
    "        },\n",
    "    }\n",
    ")"
   ]
  },
  {
   "cell_type": "code",
   "execution_count": 9,
   "metadata": {},
   "outputs": [
    {
     "output_type": "stream",
     "name": "stdout",
     "text": [
      "ℙ ( error ⊨ eventually within 5 ok ) = 0.0\nℙ ( ok ⊨ eventually within 5 ok ) = 1.0\nℙ ( s1 ⊨ eventually within 5 ok ) = 0.989341875\nℙ ( s2 ⊨ eventually within 5 ok ) = 0.989235\nℙ ( s3 ⊨ eventually within 5 ok ) = 0.9870975\nℙ ( s4 ⊨ eventually within 5 ok ) = 0.94028625\nℙ ( start ⊨ eventually within 5 ok ) = 0.99811125\n"
     ]
    }
   ],
   "source": [
    "formula = \"eventually within 5 ok\"\n",
    "p = mmk.probability_of_formula(zeroconf_prt, formula)\n",
    "pretty_print(zeroconf_prt, formula, p)"
   ]
  }
 ]
}