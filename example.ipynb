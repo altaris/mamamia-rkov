{
 "metadata": {
  "language_info": {
   "codemirror_mode": {
    "name": "ipython",
    "version": 3
   },
   "file_extension": ".py",
   "mimetype": "text/x-python",
   "name": "python",
   "nbconvert_exporter": "python",
   "pygments_lexer": "ipython3",
   "version": "3.8.2"
  },
  "orig_nbformat": 4,
  "kernelspec": {
   "name": "python3",
   "display_name": "Python 3.8.2 64-bit ('venv')"
  },
  "interpreter": {
   "hash": "1534e34ba5ffcc36015b6d9952326d1005e23f412d968e2b37ae65e0024614ad"
  }
 },
 "nbformat": 4,
 "nbformat_minor": 2,
 "cells": [
  {
   "cell_type": "code",
   "execution_count": 1,
   "metadata": {},
   "outputs": [],
   "source": [
    "import numpy as np\n",
    "import mmk"
   ]
  },
  {
   "cell_type": "code",
   "execution_count": 2,
   "metadata": {},
   "outputs": [],
   "source": [
    "chain = mmk.MarkovChain(\n",
    "    {\n",
    "        \"state_A\": {\n",
    "            \"state_B\": .5,\n",
    "            \"state_C\": .5,\n",
    "        },\n",
    "        \"state_B\": {\n",
    "            \"state_A\": .8,\n",
    "            \"state_C\": .2,\n",
    "        },\n",
    "        \"state_C\": {\n",
    "            \"state_C\": 1.,\n",
    "        },\n",
    "    }\n",
    ")"
   ]
  }
 ]
}